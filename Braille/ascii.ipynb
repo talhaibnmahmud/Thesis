{
 "cells": [
  {
   "cell_type": "code",
   "execution_count": 1,
   "metadata": {},
   "outputs": [],
   "source": [
    "import pprint\n",
    "import random\n",
    "import string\n",
    "import time\n",
    "\n",
    "import cv2 as cv\n",
    "import matplotlib.pyplot as plt\n",
    "import numpy as np\n",
    "import pandas as pd\n",
    "import torch\n",
    "import torch.nn as nn\n",
    "import torch.utils.data.dataloader as dataloader"
   ]
  },
  {
   "cell_type": "code",
   "execution_count": 2,
   "metadata": {},
   "outputs": [
    {
     "name": "stdout",
     "output_type": "stream",
     "text": [
      "(1404, 2)\n"
     ]
    },
    {
     "data": {
      "text/html": [
       "<div>\n",
       "<style scoped>\n",
       "    .dataframe tbody tr th:only-of-type {\n",
       "        vertical-align: middle;\n",
       "    }\n",
       "\n",
       "    .dataframe tbody tr th {\n",
       "        vertical-align: top;\n",
       "    }\n",
       "\n",
       "    .dataframe thead th {\n",
       "        text-align: right;\n",
       "    }\n",
       "</style>\n",
       "<table border=\"1\" class=\"dataframe\">\n",
       "  <thead>\n",
       "    <tr style=\"text-align: right;\">\n",
       "      <th></th>\n",
       "      <th>Image</th>\n",
       "      <th>Label</th>\n",
       "    </tr>\n",
       "  </thead>\n",
       "  <tbody>\n",
       "    <tr>\n",
       "      <th>0</th>\n",
       "      <td>cjhnk51rtqdvl07027euklbel%2F4f41b11d-d4b2-438c...</td>\n",
       "      <td>a</td>\n",
       "    </tr>\n",
       "    <tr>\n",
       "      <th>1</th>\n",
       "      <td>cjhnk51rtqdvl07027euklbel%2F4f41b11d-d4b2-438c...</td>\n",
       "      <td>b</td>\n",
       "    </tr>\n",
       "    <tr>\n",
       "      <th>2</th>\n",
       "      <td>cjhnk51rtqdvl07027euklbel%2F4f41b11d-d4b2-438c...</td>\n",
       "      <td>c</td>\n",
       "    </tr>\n",
       "    <tr>\n",
       "      <th>3</th>\n",
       "      <td>cjhnk51rtqdvl07027euklbel%2F4f41b11d-d4b2-438c...</td>\n",
       "      <td>d</td>\n",
       "    </tr>\n",
       "    <tr>\n",
       "      <th>4</th>\n",
       "      <td>cjhnk51rtqdvl07027euklbel%2F4f41b11d-d4b2-438c...</td>\n",
       "      <td>e</td>\n",
       "    </tr>\n",
       "  </tbody>\n",
       "</table>\n",
       "</div>"
      ],
      "text/plain": [
       "                                               Image Label\n",
       "0  cjhnk51rtqdvl07027euklbel%2F4f41b11d-d4b2-438c...     a\n",
       "1  cjhnk51rtqdvl07027euklbel%2F4f41b11d-d4b2-438c...     b\n",
       "2  cjhnk51rtqdvl07027euklbel%2F4f41b11d-d4b2-438c...     c\n",
       "3  cjhnk51rtqdvl07027euklbel%2F4f41b11d-d4b2-438c...     d\n",
       "4  cjhnk51rtqdvl07027euklbel%2F4f41b11d-d4b2-438c...     e"
      ]
     },
     "execution_count": 2,
     "metadata": {},
     "output_type": "execute_result"
    }
   ],
   "source": [
    "# Upload and read the csv files from the github repo\n",
    "df = pd.read_csv(\"braille.csv\")\n",
    "\n",
    "print(df.shape)\n",
    "df.head()"
   ]
  },
  {
   "cell_type": "code",
   "execution_count": 3,
   "metadata": {},
   "outputs": [],
   "source": [
    "# generate the targets \n",
    "# the targets are one hot encoding vectors\n",
    "\n",
    "# Initalize a target dict that has the letters as its keys and as its value\n",
    "# an empty one-hot encoding of size 26\n",
    "target = {_: [0] * 27 for _ in string.ascii_lowercase}\n",
    "\n",
    "# Do the one-hot encoding for each letter now \n",
    "for letter in target.keys():\n",
    "    target[letter][ord(letter) - 97] = 1\n",
    "\n",
    "# add a space as a \"letter\" in target\n",
    "target[' '] = [0, 0, 0, 0, 0, 0, 0, 0, 0, 0, 0, 0, 0, 0, 0, 0, 0, 0, 0, 0, 0, 0, 0, 0, 0, 0, 1]"
   ]
  },
  {
   "cell_type": "code",
   "execution_count": 4,
   "metadata": {},
   "outputs": [
    {
     "name": "stdout",
     "output_type": "stream",
     "text": [
      "{ ' ': [0, 0, 0, 0, 0, 0, 0, 0, 0, 0, 0, 0, 0, 0, 0, 0, 0, 0, 0, 0, 0, 0, 0, 0, 0, 0, 1],\n",
      "  'a': [1, 0, 0, 0, 0, 0, 0, 0, 0, 0, 0, 0, 0, 0, 0, 0, 0, 0, 0, 0, 0, 0, 0, 0, 0, 0, 0],\n",
      "  'b': [0, 1, 0, 0, 0, 0, 0, 0, 0, 0, 0, 0, 0, 0, 0, 0, 0, 0, 0, 0, 0, 0, 0, 0, 0, 0, 0],\n",
      "  'c': [0, 0, 1, 0, 0, 0, 0, 0, 0, 0, 0, 0, 0, 0, 0, 0, 0, 0, 0, 0, 0, 0, 0, 0, 0, 0, 0],\n",
      "  'd': [0, 0, 0, 1, 0, 0, 0, 0, 0, 0, 0, 0, 0, 0, 0, 0, 0, 0, 0, 0, 0, 0, 0, 0, 0, 0, 0],\n",
      "  'e': [0, 0, 0, 0, 1, 0, 0, 0, 0, 0, 0, 0, 0, 0, 0, 0, 0, 0, 0, 0, 0, 0, 0, 0, 0, 0, 0],\n",
      "  'f': [0, 0, 0, 0, 0, 1, 0, 0, 0, 0, 0, 0, 0, 0, 0, 0, 0, 0, 0, 0, 0, 0, 0, 0, 0, 0, 0],\n",
      "  'g': [0, 0, 0, 0, 0, 0, 1, 0, 0, 0, 0, 0, 0, 0, 0, 0, 0, 0, 0, 0, 0, 0, 0, 0, 0, 0, 0],\n",
      "  'h': [0, 0, 0, 0, 0, 0, 0, 1, 0, 0, 0, 0, 0, 0, 0, 0, 0, 0, 0, 0, 0, 0, 0, 0, 0, 0, 0],\n",
      "  'i': [0, 0, 0, 0, 0, 0, 0, 0, 1, 0, 0, 0, 0, 0, 0, 0, 0, 0, 0, 0, 0, 0, 0, 0, 0, 0, 0],\n",
      "  'j': [0, 0, 0, 0, 0, 0, 0, 0, 0, 1, 0, 0, 0, 0, 0, 0, 0, 0, 0, 0, 0, 0, 0, 0, 0, 0, 0],\n",
      "  'k': [0, 0, 0, 0, 0, 0, 0, 0, 0, 0, 1, 0, 0, 0, 0, 0, 0, 0, 0, 0, 0, 0, 0, 0, 0, 0, 0],\n",
      "  'l': [0, 0, 0, 0, 0, 0, 0, 0, 0, 0, 0, 1, 0, 0, 0, 0, 0, 0, 0, 0, 0, 0, 0, 0, 0, 0, 0],\n",
      "  'm': [0, 0, 0, 0, 0, 0, 0, 0, 0, 0, 0, 0, 1, 0, 0, 0, 0, 0, 0, 0, 0, 0, 0, 0, 0, 0, 0],\n",
      "  'n': [0, 0, 0, 0, 0, 0, 0, 0, 0, 0, 0, 0, 0, 1, 0, 0, 0, 0, 0, 0, 0, 0, 0, 0, 0, 0, 0],\n",
      "  'o': [0, 0, 0, 0, 0, 0, 0, 0, 0, 0, 0, 0, 0, 0, 1, 0, 0, 0, 0, 0, 0, 0, 0, 0, 0, 0, 0],\n",
      "  'p': [0, 0, 0, 0, 0, 0, 0, 0, 0, 0, 0, 0, 0, 0, 0, 1, 0, 0, 0, 0, 0, 0, 0, 0, 0, 0, 0],\n",
      "  'q': [0, 0, 0, 0, 0, 0, 0, 0, 0, 0, 0, 0, 0, 0, 0, 0, 1, 0, 0, 0, 0, 0, 0, 0, 0, 0, 0],\n",
      "  'r': [0, 0, 0, 0, 0, 0, 0, 0, 0, 0, 0, 0, 0, 0, 0, 0, 0, 1, 0, 0, 0, 0, 0, 0, 0, 0, 0],\n",
      "  's': [0, 0, 0, 0, 0, 0, 0, 0, 0, 0, 0, 0, 0, 0, 0, 0, 0, 0, 1, 0, 0, 0, 0, 0, 0, 0, 0],\n",
      "  't': [0, 0, 0, 0, 0, 0, 0, 0, 0, 0, 0, 0, 0, 0, 0, 0, 0, 0, 0, 1, 0, 0, 0, 0, 0, 0, 0],\n",
      "  'u': [0, 0, 0, 0, 0, 0, 0, 0, 0, 0, 0, 0, 0, 0, 0, 0, 0, 0, 0, 0, 1, 0, 0, 0, 0, 0, 0],\n",
      "  'v': [0, 0, 0, 0, 0, 0, 0, 0, 0, 0, 0, 0, 0, 0, 0, 0, 0, 0, 0, 0, 0, 1, 0, 0, 0, 0, 0],\n",
      "  'w': [0, 0, 0, 0, 0, 0, 0, 0, 0, 0, 0, 0, 0, 0, 0, 0, 0, 0, 0, 0, 0, 0, 1, 0, 0, 0, 0],\n",
      "  'x': [0, 0, 0, 0, 0, 0, 0, 0, 0, 0, 0, 0, 0, 0, 0, 0, 0, 0, 0, 0, 0, 0, 0, 1, 0, 0, 0],\n",
      "  'y': [0, 0, 0, 0, 0, 0, 0, 0, 0, 0, 0, 0, 0, 0, 0, 0, 0, 0, 0, 0, 0, 0, 0, 0, 1, 0, 0],\n",
      "  'z': [0, 0, 0, 0, 0, 0, 0, 0, 0, 0, 0, 0, 0, 0, 0, 0, 0, 0, 0, 0, 0, 0, 0, 0, 0, 1, 0]}\n"
     ]
    }
   ],
   "source": [
    "printer = pprint.PrettyPrinter(indent=2, depth=2, compact=True, width=90)\n",
    "printer.pprint(target)"
   ]
  },
  {
   "cell_type": "code",
   "execution_count": 5,
   "metadata": {},
   "outputs": [],
   "source": [
    "# collect all data from the csv file\n",
    "def read_data(df: pd.DataFrame):\n",
    "    data: list[tuple[torch.Tensor , torch.LongTensor]]=[]\n",
    "\n",
    "# iterate over csv file\n",
    "    for i, row in df.iterrows():\n",
    "        filename = row['Image']\n",
    "        label = row['Label']\n",
    "        curr_target = target[label]\n",
    "\n",
    "        image = cv.imread(f\"data/{filename}\", cv.IMREAD_COLOR)\n",
    "        # resize image to 28x28x3\n",
    "        image = cv.resize(image, (28, 28))\n",
    "        # normalize to 0-1\n",
    "        image = image.astype(np.float32)/255.0\n",
    "        image = torch.from_numpy(image)\n",
    "\n",
    "        # convert the target to a long tensor\n",
    "        curr_target=torch.LongTensor([curr_target])\n",
    "    \n",
    "        # append the current image & target\n",
    "        data.append((image, curr_target))\n",
    "    \n",
    "    return data"
   ]
  },
  {
   "cell_type": "code",
   "execution_count": 6,
   "metadata": {},
   "outputs": [
    {
     "data": {
      "text/plain": [
       "1404"
      ]
     },
     "execution_count": 6,
     "metadata": {},
     "output_type": "execute_result"
    }
   ],
   "source": [
    "data = read_data(df)\n",
    "random.shuffle(data)\n",
    "len(data)"
   ]
  },
  {
   "cell_type": "code",
   "execution_count": 7,
   "metadata": {},
   "outputs": [],
   "source": [
    "# batch sizes for train, test, and validation\n",
    "batch_train = 20\n",
    "batch_test = 5\n",
    "batch_validation = 5\n",
    "\n",
    "# splitting data to get training, test, and validation sets\n",
    "# currently splitting my csv file only\n",
    "# has 1404 in total\n",
    "# 140 each for test and train\n",
    "# 1124 for train\n",
    "train_data = data[:1124]\n",
    "# test has 164\n",
    "test_data = data[1124:1264]\n",
    "# validation has 164\n",
    "validation_data = data[1264:]"
   ]
  },
  {
   "cell_type": "code",
   "execution_count": 8,
   "metadata": {},
   "outputs": [],
   "source": [
    "# create the dataloader objects\n",
    "train_loader = dataloader.DataLoader(dataset=train_data, batch_size=batch_train, shuffle=True)\n",
    "test_loader = dataloader.DataLoader(dataset=test_data, batch_size=batch_test, shuffle=False)\n",
    "validation_loader = dataloader.DataLoader(dataset=validation_data, batch_size=batch_validation, shuffle=True)"
   ]
  },
  {
   "cell_type": "code",
   "execution_count": 9,
   "metadata": {},
   "outputs": [],
   "source": [
    "# defines the convolutional neural network\n",
    "class CNN(nn.Module):\n",
    "    def __init__(self) -> None:\n",
    "        super().__init__()\n",
    "\n",
    "        self.cnn = nn.Sequential(\n",
    "            self._block(3, 16, kernel_size=5, stride=1, padding=2),\n",
    "            self._block(16, 32, kernel_size=5, stride=1, padding=2),\n",
    "        )\n",
    "\n",
    "        # Linear Layer: Input Dimension --> 32x7x7\n",
    "        self.flat = nn.Sequential(\n",
    "            nn.Linear(32*7*7, 100),\n",
    "            # Output Dimension --> 1x100\n",
    "            nn.LeakyReLU(),\n",
    "\n",
    "            nn.Linear(100, 27),\n",
    "            # Output Dimension --> 1x27\n",
    "            # nn.Sigmoid()\n",
    "        )\n",
    "            \n",
    "    def _block(self, in_channels: int, out_channels: int, kernel_size: int, stride: int, padding: int):\n",
    "        return nn.Sequential(\n",
    "            nn.Conv2d(in_channels, out_channels, kernel_size, stride, padding, bias = False),\n",
    "            nn.LeakyReLU(),\n",
    "            \n",
    "            nn.MaxPool2d(kernel_size=2),\n",
    "            nn.LeakyReLU()\n",
    "        )\n",
    "    \n",
    "    def forward(self, x): \n",
    "        out = self.cnn(x)\n",
    "\n",
    "        # flatten the dataset\n",
    "        flattened = self.flat(out.reshape(-1, 32*7*7))\n",
    "        \n",
    "        return flattened"
   ]
  },
  {
   "cell_type": "code",
   "execution_count": 10,
   "metadata": {},
   "outputs": [
    {
     "name": "stdout",
     "output_type": "stream",
     "text": [
      "CNN(\n",
      "  (cnn): Sequential(\n",
      "    (0): Sequential(\n",
      "      (0): Conv2d(3, 16, kernel_size=(5, 5), stride=(1, 1), padding=(2, 2), bias=False)\n",
      "      (1): LeakyReLU(negative_slope=0.01)\n",
      "      (2): MaxPool2d(kernel_size=2, stride=2, padding=0, dilation=1, ceil_mode=False)\n",
      "      (3): LeakyReLU(negative_slope=0.01)\n",
      "    )\n",
      "    (1): Sequential(\n",
      "      (0): Conv2d(16, 32, kernel_size=(5, 5), stride=(1, 1), padding=(2, 2), bias=False)\n",
      "      (1): LeakyReLU(negative_slope=0.01)\n",
      "      (2): MaxPool2d(kernel_size=2, stride=2, padding=0, dilation=1, ceil_mode=False)\n",
      "      (3): LeakyReLU(negative_slope=0.01)\n",
      "    )\n",
      "  )\n",
      "  (flat): Sequential(\n",
      "    (0): Linear(in_features=1568, out_features=100, bias=True)\n",
      "    (1): LeakyReLU(negative_slope=0.01)\n",
      "    (2): Linear(in_features=100, out_features=27, bias=True)\n",
      "  )\n",
      ")\n",
      "# parameter:  173627\n",
      "Model's state_dict:\n",
      "cnn.0.0.weight \t torch.Size([16, 3, 5, 5])\n",
      "cnn.1.0.weight \t torch.Size([32, 16, 5, 5])\n",
      "flat.0.weight \t torch.Size([100, 1568])\n",
      "flat.0.bias \t torch.Size([100])\n",
      "flat.2.weight \t torch.Size([27, 100])\n",
      "flat.2.bias \t torch.Size([27])\n"
     ]
    }
   ],
   "source": [
    "# convolutional neural network model\n",
    "model = CNN()\n",
    "\n",
    "# print summary of the neural network model to check if everything is fine. \n",
    "print(model)\n",
    "print(\"# parameter: \", sum([param.nelement() for param in model.parameters()]))\n",
    "\n",
    "# Print model's state_dict\n",
    "print(\"Model's state_dict:\")\n",
    "for param_tensor in model.state_dict():\n",
    "    print(param_tensor, \"\\t\", model.state_dict()[param_tensor].size())"
   ]
  },
  {
   "cell_type": "code",
   "execution_count": 11,
   "metadata": {},
   "outputs": [],
   "source": [
    "# setting the learning rate\n",
    "learning_rate = 1e-3\n",
    "\n",
    "# Using a variable to store the cross entropy method\n",
    "criterion = nn.CrossEntropyLoss()\n",
    "\n",
    "# Using a variable to store the optimizer \n",
    "optimizer = torch.optim.Adam(model.parameters(),lr = learning_rate)\n",
    "\n",
    "# Print optimizer's state_dict\n",
    "# print(\"Optimizer's state_dict:\")\n",
    "# for var_name in optimizer.state_dict():\n",
    "#     print(var_name, \"\\t\", optimizer.state_dict()[var_name])\n",
    "\n",
    "# list of all train_losses in 30 epochs\n",
    "train_losses = []\n",
    "# list of all validation losses in 30 epochs\n",
    "validation_losses = []\n",
    "\n",
    "# total train losses\n",
    "total_train_loss = []\n",
    "# total validation losses\n",
    "total_validation_loss = []"
   ]
  },
  {
   "cell_type": "code",
   "execution_count": 12,
   "metadata": {},
   "outputs": [
    {
     "name": "stdout",
     "output_type": "stream",
     "text": [
      "Epoch: 1\n",
      "Training Loss: 3.3019\n",
      "Validation Loss: 3.2918\n",
      "Accuracy on the test set: 7.1429%\n",
      "Epoch: 2\n",
      "Training Loss: 3.2955\n",
      "Validation Loss: 3.2707\n",
      "Accuracy on the test set: 9.2857%\n",
      "Epoch: 3\n",
      "Training Loss: 2.7656\n",
      "Validation Loss: 1.8275\n",
      "Accuracy on the test set: 47.8571%\n",
      "Epoch: 4\n",
      "Training Loss: 1.0461\n",
      "Validation Loss: 0.7122\n",
      "Accuracy on the test set: 80.0000%\n",
      "Epoch: 5\n",
      "Training Loss: 0.4909\n",
      "Validation Loss: 0.4551\n",
      "Accuracy on the test set: 89.2857%\n",
      "Epoch: 6\n",
      "Training Loss: 0.3210\n",
      "Validation Loss: 0.4299\n",
      "Accuracy on the test set: 90.7143%\n",
      "Epoch: 7\n",
      "Training Loss: 0.2440\n",
      "Validation Loss: 0.4142\n",
      "Accuracy on the test set: 92.1429%\n",
      "Epoch: 8\n",
      "Training Loss: 0.2247\n",
      "Validation Loss: 0.4236\n",
      "Accuracy on the test set: 91.4286%\n",
      "Epoch: 9\n",
      "Training Loss: 0.1600\n",
      "Validation Loss: 0.2661\n",
      "Accuracy on the test set: 90.7143%\n",
      "Epoch: 10\n",
      "Training Loss: 0.1396\n",
      "Validation Loss: 0.3363\n",
      "Accuracy on the test set: 92.1429%\n",
      "Epoch: 11\n",
      "Training Loss: 0.1044\n",
      "Validation Loss: 0.2709\n",
      "Accuracy on the test set: 92.1428%\n",
      "Epoch: 12\n",
      "Training Loss: 0.0711\n",
      "Validation Loss: 0.3645\n",
      "Accuracy on the test set: 93.5714%\n",
      "Epoch: 13\n",
      "Training Loss: 0.0746\n",
      "Validation Loss: 0.4110\n",
      "Accuracy on the test set: 91.4286%\n",
      "Epoch: 14\n",
      "Training Loss: 0.0924\n",
      "Validation Loss: 0.4894\n",
      "Accuracy on the test set: 92.8571%\n",
      "Epoch: 15\n",
      "Training Loss: 0.0722\n",
      "Validation Loss: 0.3037\n",
      "Accuracy on the test set: 95.0000%\n",
      "Epoch: 16\n",
      "Training Loss: 0.0509\n",
      "Validation Loss: 0.4348\n",
      "Accuracy on the test set: 94.2857%\n",
      "Epoch: 17\n",
      "Training Loss: 0.0433\n",
      "Validation Loss: 0.4746\n",
      "Accuracy on the test set: 92.8571%\n",
      "Epoch: 18\n",
      "Training Loss: 0.0273\n",
      "Validation Loss: 0.2936\n",
      "Accuracy on the test set: 95.0000%\n",
      "Epoch: 19\n",
      "Training Loss: 0.0240\n",
      "Validation Loss: 0.3415\n",
      "Accuracy on the test set: 95.0000%\n",
      "Epoch: 20\n",
      "Training Loss: 0.0197\n",
      "Validation Loss: 0.4262\n",
      "Accuracy on the test set: 90.0000%\n"
     ]
    }
   ],
   "source": [
    "# for loop that iterates over all the epochs\n",
    "num_epochs = 20\n",
    "\n",
    "t0 = time.time()\n",
    "for epoch in range(num_epochs):\n",
    "    \n",
    "    # variables to store/keep track of the loss and number of iterations\n",
    "    train_loss = 0\n",
    "    num_iter_train = 0\n",
    "\n",
    "    # train the model\n",
    "    model.train()\n",
    "    \n",
    "    # Iterate over train_loader\n",
    "    for i, (images, labels) in enumerate(train_loader):  \n",
    "        # need to permute so that the images are of size 3x28x28 \n",
    "        # essential to be able to feed images into the model\n",
    "        images = images.permute(0, 3, 1, 2)\n",
    "\n",
    "        # Zero the gradient buffer\n",
    "        # resets the gradient after each epoch so that the gradients don't add up\n",
    "        optimizer.zero_grad()  \n",
    "\n",
    "        # Forward\n",
    "        outputs = model(images)\n",
    "\n",
    "        # convert the labels from one hot encoding vectors into integer values \n",
    "        labels = labels.view(-1, 27)\n",
    "        y_true = torch.argmax(labels, 1)\n",
    "\n",
    "        loss = criterion(outputs, y_true)\n",
    "\n",
    "        #print('loss:', loss)\n",
    "        total_train_loss.append(loss)\n",
    "        # Backward (computes all the gradients)\n",
    "        loss.backward()\n",
    "\n",
    "        # Optimize\n",
    "        # loops through all parameters and updates weights by using the gradients \n",
    "        # takes steps backwards to optimize (to reach the minimum weight)\n",
    "        optimizer.step()\n",
    "        # update the training loss and number of iterations\n",
    "        train_loss += loss.item()\n",
    "        num_iter_train += 1\n",
    "\n",
    "    print(f\"Epoch: {epoch+1}\")\n",
    "    print(f\"Training Loss: {train_loss/num_iter_train:.4f}\")\n",
    "    # append the train_losses over all the epochs\n",
    "    train_losses.append(train_loss/num_iter_train)\n",
    "    \n",
    "    # variables to store/keep track of the loss and number of iterations\n",
    "    validation_loss = 0\n",
    "    num_iter_validation = 0\n",
    "    \n",
    "    # Iterate over train_loader\n",
    "    for i, (images, labels) in enumerate(validation_loader):  \n",
    "        # need to permute so that the images are of size 3x28x28 \n",
    "        # essential to be able to feed images into the model\n",
    "        images = images.permute(0, 3, 1, 2)\n",
    "        # print(images.shape)\n",
    "\n",
    "        # Zero the gradient buffer\n",
    "        # resets the gradient after each epoch so that the gradients don't add up\n",
    "        optimizer.zero_grad()  \n",
    "\n",
    "        # Forward\n",
    "        outputs = model(images)\n",
    "\n",
    "        # convert the labels from one hot encoding vectors to integer values\n",
    "        labels = labels.view(-1, 27)\n",
    "        y_true = torch.argmax(labels, 1)\n",
    "        # calculate the loss\n",
    "        loss = criterion(outputs, y_true)\n",
    "        #print('loss:', loss)\n",
    "        total_validation_loss.append(loss)\n",
    "\n",
    "        # update the training loss and number of iterations\n",
    "        validation_loss += loss.item()\n",
    "        num_iter_validation += 1\n",
    "\n",
    "    print(f\"Validation Loss: {validation_loss/num_iter_validation:.4f}\")\n",
    "    # append all validation_losses over all the epochs\n",
    "    validation_losses.append(validation_loss/num_iter_validation)\n",
    "    \n",
    "    # evaluate the model\n",
    "    model.eval()\n",
    "\n",
    "    correct = 0\n",
    "    total = 0\n",
    "    num_iter_test = 0\n",
    "    mean = 0\n",
    "    \n",
    "    # Iterate over test_loader\n",
    "    for images, labels in test_loader:  \n",
    "        # need to permute so that the images are of size 3x28x28 \n",
    "        # essential to be able to feed images into the model\n",
    "        images = images.permute(0, 3, 1, 2)\n",
    "\n",
    "        # Forward\n",
    "        outputs = model(images)\n",
    "\n",
    "        # convert the labels from one hot encoding vectors into integer values \n",
    "        labels = labels.view(-1, 27)\n",
    "        y_true = torch.argmax(labels, 1)\n",
    "\n",
    "        # find the index of the prediction\n",
    "        y_pred = torch.argmax(outputs, 1).type('torch.FloatTensor')\n",
    "        # convert to FloatTensor\n",
    "        y_true = y_true.type('torch.FloatTensor')\n",
    "\n",
    "        # find the mean difference of the comparisons\n",
    "        mean += torch.mean(torch.eq(y_true, y_pred).type('torch.FloatTensor'))  \n",
    "\n",
    "    print(f\"Accuracy on the test set: {mean/len(test_loader) * 100:.4f}%\")\n",
    "\n",
    "tf = time.time()"
   ]
  },
  {
   "cell_type": "code",
   "execution_count": 13,
   "metadata": {},
   "outputs": [
    {
     "name": "stdout",
     "output_type": "stream",
     "text": [
      "\n",
      "time: 31.285205602645874 s\n"
     ]
    }
   ],
   "source": [
    "# calculate time it took to train the model\n",
    "print()\n",
    "print(f\"time: {tf-t0} s\")"
   ]
  },
  {
   "cell_type": "code",
   "execution_count": 14,
   "metadata": {},
   "outputs": [],
   "source": [
    "# learning curve function\n",
    "def plot_learning_curve(train_losses, validation_losses):\n",
    "    # plot the training and validation losses\n",
    "    # x-axis is the number of training steps\n",
    "    # y-axis is loss\n",
    "    plt.ylabel('Loss')\n",
    "    plt.xlabel('Number of Epochs')\n",
    "    plt.plot(train_losses, label=\"training\")\n",
    "    plt.plot(validation_losses, label=\"validation\")\n",
    "    plt.legend(loc=1)"
   ]
  },
  {
   "cell_type": "code",
   "execution_count": 15,
   "metadata": {},
   "outputs": [
    {
     "data": {
      "image/png": "[encoded data removed]",
      "text/plain": [
       "<Figure size 640x480 with 1 Axes>"
      ]
     },
     "metadata": {},
     "output_type": "display_data"
    }
   ],
   "source": [
    "# plot the learning curve\n",
    "plt.title(\"Learning Curve (Loss vs Number of Epochs)\")\n",
    "plot_learning_curve(train_losses, validation_losses)"
   ]
  },
  {
   "cell_type": "code",
   "execution_count": 16,
   "metadata": {},
   "outputs": [],
   "source": [
    "torch.save(model.state_dict(), 'ascii.pth')"
   ]
  },
  {
   "cell_type": "code",
   "execution_count": 17,
   "metadata": {},
   "outputs": [
    {
     "data": {
      "text/plain": [
       "CNN(\n",
       "  (cnn): Sequential(\n",
       "    (0): Sequential(\n",
       "      (0): Conv2d(3, 16, kernel_size=(5, 5), stride=(1, 1), padding=(2, 2), bias=False)\n",
       "      (1): LeakyReLU(negative_slope=0.01)\n",
       "      (2): MaxPool2d(kernel_size=2, stride=2, padding=0, dilation=1, ceil_mode=False)\n",
       "      (3): LeakyReLU(negative_slope=0.01)\n",
       "    )\n",
       "    (1): Sequential(\n",
       "      (0): Conv2d(16, 32, kernel_size=(5, 5), stride=(1, 1), padding=(2, 2), bias=False)\n",
       "      (1): LeakyReLU(negative_slope=0.01)\n",
       "      (2): MaxPool2d(kernel_size=2, stride=2, padding=0, dilation=1, ceil_mode=False)\n",
       "      (3): LeakyReLU(negative_slope=0.01)\n",
       "    )\n",
       "  )\n",
       "  (flat): Sequential(\n",
       "    (0): Linear(in_features=1568, out_features=100, bias=True)\n",
       "    (1): LeakyReLU(negative_slope=0.01)\n",
       "    (2): Linear(in_features=100, out_features=27, bias=True)\n",
       "  )\n",
       ")"
      ]
     },
     "execution_count": 17,
     "metadata": {},
     "output_type": "execute_result"
    }
   ],
   "source": [
    "cnn = CNN()\n",
    "cnn.load_state_dict(torch.load('ascii.pth'))\n",
    "cnn.eval()"
   ]
  },
  {
   "cell_type": "code",
   "execution_count": 25,
   "metadata": {},
   "outputs": [
    {
     "name": "stdout",
     "output_type": "stream",
     "text": [
      "Read image shape: (175, 120, 3)\n",
      "Image shape after resize: (28, 28, 3)\n",
      "Tensor shape: torch.Size([28, 28, 3])\n"
     ]
    }
   ],
   "source": [
    "filename = f\"cjhnk51rtqdvl07027euklbel%2F4f41b11d-d4b2-438c-9d4f-4950d65f9513%2Fa.jpg\"\n",
    "\n",
    "image = cv.imread(f\"data/{filename}\", cv.IMREAD_COLOR)\n",
    "print(f\"Read image shape: {image.shape}\")\n",
    "# resize image to 28x28x3\n",
    "image = cv.resize(image, (28, 28))\n",
    "print(f\"Image shape after resize: {image.shape}\")\n",
    "# normalize to 0-1\n",
    "image = image.astype(np.float32)/255.0\n",
    "image = torch.from_numpy(image)\n",
    "\n",
    "print(f\"Tensor shape: {image.shape}\")"
   ]
  },
  {
   "cell_type": "code",
   "execution_count": 24,
   "metadata": {},
   "outputs": [
    {
     "ename": "RuntimeError",
     "evalue": "Given groups=1, weight of size [16, 3, 5, 5], expected input[1, 28, 28, 3] to have 3 channels, but got 28 channels instead",
     "output_type": "error",
     "traceback": [
      "\u001b[1;31m---------------------------------------------------------------------------\u001b[0m",
      "\u001b[1;31mRuntimeError\u001b[0m                              Traceback (most recent call last)",
      "Cell \u001b[1;32mIn [24], line 1\u001b[0m\n\u001b[1;32m----> 1\u001b[0m output \u001b[39m=\u001b[39m model(image)\n",
      "File \u001b[1;32mc:\\Users\\Administrator\\Documents\\1707057\\Thesis\\venv\\lib\\site-packages\\torch\\nn\\modules\\module.py:1190\u001b[0m, in \u001b[0;36mModule._call_impl\u001b[1;34m(self, *input, **kwargs)\u001b[0m\n\u001b[0;32m   1186\u001b[0m \u001b[39m# If we don't have any hooks, we want to skip the rest of the logic in\u001b[39;00m\n\u001b[0;32m   1187\u001b[0m \u001b[39m# this function, and just call forward.\u001b[39;00m\n\u001b[0;32m   1188\u001b[0m \u001b[39mif\u001b[39;00m \u001b[39mnot\u001b[39;00m (\u001b[39mself\u001b[39m\u001b[39m.\u001b[39m_backward_hooks \u001b[39mor\u001b[39;00m \u001b[39mself\u001b[39m\u001b[39m.\u001b[39m_forward_hooks \u001b[39mor\u001b[39;00m \u001b[39mself\u001b[39m\u001b[39m.\u001b[39m_forward_pre_hooks \u001b[39mor\u001b[39;00m _global_backward_hooks\n\u001b[0;32m   1189\u001b[0m         \u001b[39mor\u001b[39;00m _global_forward_hooks \u001b[39mor\u001b[39;00m _global_forward_pre_hooks):\n\u001b[1;32m-> 1190\u001b[0m     \u001b[39mreturn\u001b[39;00m forward_call(\u001b[39m*\u001b[39m\u001b[39minput\u001b[39m, \u001b[39m*\u001b[39m\u001b[39m*\u001b[39mkwargs)\n\u001b[0;32m   1191\u001b[0m \u001b[39m# Do not call functions when jit is used\u001b[39;00m\n\u001b[0;32m   1192\u001b[0m full_backward_hooks, non_full_backward_hooks \u001b[39m=\u001b[39m [], []\n",
      "Cell \u001b[1;32mIn [9], line 32\u001b[0m, in \u001b[0;36mCNN.forward\u001b[1;34m(self, x)\u001b[0m\n\u001b[0;32m     31\u001b[0m \u001b[39mdef\u001b[39;00m \u001b[39mforward\u001b[39m(\u001b[39mself\u001b[39m, x): \n\u001b[1;32m---> 32\u001b[0m     out \u001b[39m=\u001b[39m \u001b[39mself\u001b[39;49m\u001b[39m.\u001b[39;49mcnn(x)\n\u001b[0;32m     34\u001b[0m     \u001b[39m# flatten the dataset\u001b[39;00m\n\u001b[0;32m     35\u001b[0m     flattened \u001b[39m=\u001b[39m \u001b[39mself\u001b[39m\u001b[39m.\u001b[39mflat(out\u001b[39m.\u001b[39mreshape(\u001b[39m-\u001b[39m\u001b[39m1\u001b[39m, \u001b[39m32\u001b[39m\u001b[39m*\u001b[39m\u001b[39m7\u001b[39m\u001b[39m*\u001b[39m\u001b[39m7\u001b[39m))\n",
      "File \u001b[1;32mc:\\Users\\Administrator\\Documents\\1707057\\Thesis\\venv\\lib\\site-packages\\torch\\nn\\modules\\module.py:1190\u001b[0m, in \u001b[0;36mModule._call_impl\u001b[1;34m(self, *input, **kwargs)\u001b[0m\n\u001b[0;32m   1186\u001b[0m \u001b[39m# If we don't have any hooks, we want to skip the rest of the logic in\u001b[39;00m\n\u001b[0;32m   1187\u001b[0m \u001b[39m# this function, and just call forward.\u001b[39;00m\n\u001b[0;32m   1188\u001b[0m \u001b[39mif\u001b[39;00m \u001b[39mnot\u001b[39;00m (\u001b[39mself\u001b[39m\u001b[39m.\u001b[39m_backward_hooks \u001b[39mor\u001b[39;00m \u001b[39mself\u001b[39m\u001b[39m.\u001b[39m_forward_hooks \u001b[39mor\u001b[39;00m \u001b[39mself\u001b[39m\u001b[39m.\u001b[39m_forward_pre_hooks \u001b[39mor\u001b[39;00m _global_backward_hooks\n\u001b[0;32m   1189\u001b[0m         \u001b[39mor\u001b[39;00m _global_forward_hooks \u001b[39mor\u001b[39;00m _global_forward_pre_hooks):\n\u001b[1;32m-> 1190\u001b[0m     \u001b[39mreturn\u001b[39;00m forward_call(\u001b[39m*\u001b[39m\u001b[39minput\u001b[39m, \u001b[39m*\u001b[39m\u001b[39m*\u001b[39mkwargs)\n\u001b[0;32m   1191\u001b[0m \u001b[39m# Do not call functions when jit is used\u001b[39;00m\n\u001b[0;32m   1192\u001b[0m full_backward_hooks, non_full_backward_hooks \u001b[39m=\u001b[39m [], []\n",
      "File \u001b[1;32mc:\\Users\\Administrator\\Documents\\1707057\\Thesis\\venv\\lib\\site-packages\\torch\\nn\\modules\\container.py:204\u001b[0m, in \u001b[0;36mSequential.forward\u001b[1;34m(self, input)\u001b[0m\n\u001b[0;32m    202\u001b[0m \u001b[39mdef\u001b[39;00m \u001b[39mforward\u001b[39m(\u001b[39mself\u001b[39m, \u001b[39minput\u001b[39m):\n\u001b[0;32m    203\u001b[0m     \u001b[39mfor\u001b[39;00m module \u001b[39min\u001b[39;00m \u001b[39mself\u001b[39m:\n\u001b[1;32m--> 204\u001b[0m         \u001b[39minput\u001b[39m \u001b[39m=\u001b[39m module(\u001b[39minput\u001b[39;49m)\n\u001b[0;32m    205\u001b[0m     \u001b[39mreturn\u001b[39;00m \u001b[39minput\u001b[39m\n",
      "File \u001b[1;32mc:\\Users\\Administrator\\Documents\\1707057\\Thesis\\venv\\lib\\site-packages\\torch\\nn\\modules\\module.py:1190\u001b[0m, in \u001b[0;36mModule._call_impl\u001b[1;34m(self, *input, **kwargs)\u001b[0m\n\u001b[0;32m   1186\u001b[0m \u001b[39m# If we don't have any hooks, we want to skip the rest of the logic in\u001b[39;00m\n\u001b[0;32m   1187\u001b[0m \u001b[39m# this function, and just call forward.\u001b[39;00m\n\u001b[0;32m   1188\u001b[0m \u001b[39mif\u001b[39;00m \u001b[39mnot\u001b[39;00m (\u001b[39mself\u001b[39m\u001b[39m.\u001b[39m_backward_hooks \u001b[39mor\u001b[39;00m \u001b[39mself\u001b[39m\u001b[39m.\u001b[39m_forward_hooks \u001b[39mor\u001b[39;00m \u001b[39mself\u001b[39m\u001b[39m.\u001b[39m_forward_pre_hooks \u001b[39mor\u001b[39;00m _global_backward_hooks\n\u001b[0;32m   1189\u001b[0m         \u001b[39mor\u001b[39;00m _global_forward_hooks \u001b[39mor\u001b[39;00m _global_forward_pre_hooks):\n\u001b[1;32m-> 1190\u001b[0m     \u001b[39mreturn\u001b[39;00m forward_call(\u001b[39m*\u001b[39m\u001b[39minput\u001b[39m, \u001b[39m*\u001b[39m\u001b[39m*\u001b[39mkwargs)\n\u001b[0;32m   1191\u001b[0m \u001b[39m# Do not call functions when jit is used\u001b[39;00m\n\u001b[0;32m   1192\u001b[0m full_backward_hooks, non_full_backward_hooks \u001b[39m=\u001b[39m [], []\n",
      "File \u001b[1;32mc:\\Users\\Administrator\\Documents\\1707057\\Thesis\\venv\\lib\\site-packages\\torch\\nn\\modules\\container.py:204\u001b[0m, in \u001b[0;36mSequential.forward\u001b[1;34m(self, input)\u001b[0m\n\u001b[0;32m    202\u001b[0m \u001b[39mdef\u001b[39;00m \u001b[39mforward\u001b[39m(\u001b[39mself\u001b[39m, \u001b[39minput\u001b[39m):\n\u001b[0;32m    203\u001b[0m     \u001b[39mfor\u001b[39;00m module \u001b[39min\u001b[39;00m \u001b[39mself\u001b[39m:\n\u001b[1;32m--> 204\u001b[0m         \u001b[39minput\u001b[39m \u001b[39m=\u001b[39m module(\u001b[39minput\u001b[39;49m)\n\u001b[0;32m    205\u001b[0m     \u001b[39mreturn\u001b[39;00m \u001b[39minput\u001b[39m\n",
      "File \u001b[1;32mc:\\Users\\Administrator\\Documents\\1707057\\Thesis\\venv\\lib\\site-packages\\torch\\nn\\modules\\module.py:1190\u001b[0m, in \u001b[0;36mModule._call_impl\u001b[1;34m(self, *input, **kwargs)\u001b[0m\n\u001b[0;32m   1186\u001b[0m \u001b[39m# If we don't have any hooks, we want to skip the rest of the logic in\u001b[39;00m\n\u001b[0;32m   1187\u001b[0m \u001b[39m# this function, and just call forward.\u001b[39;00m\n\u001b[0;32m   1188\u001b[0m \u001b[39mif\u001b[39;00m \u001b[39mnot\u001b[39;00m (\u001b[39mself\u001b[39m\u001b[39m.\u001b[39m_backward_hooks \u001b[39mor\u001b[39;00m \u001b[39mself\u001b[39m\u001b[39m.\u001b[39m_forward_hooks \u001b[39mor\u001b[39;00m \u001b[39mself\u001b[39m\u001b[39m.\u001b[39m_forward_pre_hooks \u001b[39mor\u001b[39;00m _global_backward_hooks\n\u001b[0;32m   1189\u001b[0m         \u001b[39mor\u001b[39;00m _global_forward_hooks \u001b[39mor\u001b[39;00m _global_forward_pre_hooks):\n\u001b[1;32m-> 1190\u001b[0m     \u001b[39mreturn\u001b[39;00m forward_call(\u001b[39m*\u001b[39m\u001b[39minput\u001b[39m, \u001b[39m*\u001b[39m\u001b[39m*\u001b[39mkwargs)\n\u001b[0;32m   1191\u001b[0m \u001b[39m# Do not call functions when jit is used\u001b[39;00m\n\u001b[0;32m   1192\u001b[0m full_backward_hooks, non_full_backward_hooks \u001b[39m=\u001b[39m [], []\n",
      "File \u001b[1;32mc:\\Users\\Administrator\\Documents\\1707057\\Thesis\\venv\\lib\\site-packages\\torch\\nn\\modules\\conv.py:463\u001b[0m, in \u001b[0;36mConv2d.forward\u001b[1;34m(self, input)\u001b[0m\n\u001b[0;32m    462\u001b[0m \u001b[39mdef\u001b[39;00m \u001b[39mforward\u001b[39m(\u001b[39mself\u001b[39m, \u001b[39minput\u001b[39m: Tensor) \u001b[39m-\u001b[39m\u001b[39m>\u001b[39m Tensor:\n\u001b[1;32m--> 463\u001b[0m     \u001b[39mreturn\u001b[39;00m \u001b[39mself\u001b[39;49m\u001b[39m.\u001b[39;49m_conv_forward(\u001b[39minput\u001b[39;49m, \u001b[39mself\u001b[39;49m\u001b[39m.\u001b[39;49mweight, \u001b[39mself\u001b[39;49m\u001b[39m.\u001b[39;49mbias)\n",
      "File \u001b[1;32mc:\\Users\\Administrator\\Documents\\1707057\\Thesis\\venv\\lib\\site-packages\\torch\\nn\\modules\\conv.py:459\u001b[0m, in \u001b[0;36mConv2d._conv_forward\u001b[1;34m(self, input, weight, bias)\u001b[0m\n\u001b[0;32m    455\u001b[0m \u001b[39mif\u001b[39;00m \u001b[39mself\u001b[39m\u001b[39m.\u001b[39mpadding_mode \u001b[39m!=\u001b[39m \u001b[39m'\u001b[39m\u001b[39mzeros\u001b[39m\u001b[39m'\u001b[39m:\n\u001b[0;32m    456\u001b[0m     \u001b[39mreturn\u001b[39;00m F\u001b[39m.\u001b[39mconv2d(F\u001b[39m.\u001b[39mpad(\u001b[39minput\u001b[39m, \u001b[39mself\u001b[39m\u001b[39m.\u001b[39m_reversed_padding_repeated_twice, mode\u001b[39m=\u001b[39m\u001b[39mself\u001b[39m\u001b[39m.\u001b[39mpadding_mode),\n\u001b[0;32m    457\u001b[0m                     weight, bias, \u001b[39mself\u001b[39m\u001b[39m.\u001b[39mstride,\n\u001b[0;32m    458\u001b[0m                     _pair(\u001b[39m0\u001b[39m), \u001b[39mself\u001b[39m\u001b[39m.\u001b[39mdilation, \u001b[39mself\u001b[39m\u001b[39m.\u001b[39mgroups)\n\u001b[1;32m--> 459\u001b[0m \u001b[39mreturn\u001b[39;00m F\u001b[39m.\u001b[39;49mconv2d(\u001b[39minput\u001b[39;49m, weight, bias, \u001b[39mself\u001b[39;49m\u001b[39m.\u001b[39;49mstride,\n\u001b[0;32m    460\u001b[0m                 \u001b[39mself\u001b[39;49m\u001b[39m.\u001b[39;49mpadding, \u001b[39mself\u001b[39;49m\u001b[39m.\u001b[39;49mdilation, \u001b[39mself\u001b[39;49m\u001b[39m.\u001b[39;49mgroups)\n",
      "\u001b[1;31mRuntimeError\u001b[0m: Given groups=1, weight of size [16, 3, 5, 5], expected input[1, 28, 28, 3] to have 3 channels, but got 28 channels instead"
     ]
    }
   ],
   "source": [
    "# output = model(image)"
   ]
  }
 ],
 "metadata": {
  "kernelspec": {
   "display_name": "Python 3.10.8 ('venv': venv)",
   "language": "python",
   "name": "python3"
  },
  "language_info": {
   "codemirror_mode": {
    "name": "ipython",
    "version": 3
   },
   "file_extension": ".py",
   "mimetype": "text/x-python",
   "name": "python",
   "nbconvert_exporter": "python",
   "pygments_lexer": "ipython3",
   "version": "3.10.8"
  },
  "orig_nbformat": 4,
  "vscode": {
   "interpreter": {
    "hash": "973531338cbf9c7c90f4817a38fa7871bb7b404078b58add9e433108e1385b97"
   }
  }
 },
 "nbformat": 4,
 "nbformat_minor": 2
}
