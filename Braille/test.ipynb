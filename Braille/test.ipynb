{
 "cells": [
  {
   "cell_type": "code",
   "execution_count": 96,
   "metadata": {},
   "outputs": [],
   "source": [
    "import cv2 as cv\n",
    "import numpy as np\n",
    "import torch\n",
    "\n",
    "import model"
   ]
  },
  {
   "cell_type": "code",
   "execution_count": 97,
   "metadata": {},
   "outputs": [
    {
     "data": {
      "text/plain": [
       "CNN(\n",
       "  (cnn): Sequential(\n",
       "    (0): Sequential(\n",
       "      (0): Conv2d(3, 16, kernel_size=(5, 5), stride=(1, 1), padding=(2, 2), bias=False)\n",
       "      (1): LeakyReLU(negative_slope=0.01)\n",
       "      (2): MaxPool2d(kernel_size=2, stride=2, padding=0, dilation=1, ceil_mode=False)\n",
       "      (3): LeakyReLU(negative_slope=0.01)\n",
       "    )\n",
       "    (1): Sequential(\n",
       "      (0): Conv2d(16, 32, kernel_size=(5, 5), stride=(1, 1), padding=(2, 2), bias=False)\n",
       "      (1): LeakyReLU(negative_slope=0.01)\n",
       "      (2): MaxPool2d(kernel_size=2, stride=2, padding=0, dilation=1, ceil_mode=False)\n",
       "      (3): LeakyReLU(negative_slope=0.01)\n",
       "    )\n",
       "  )\n",
       "  (flat): Sequential(\n",
       "    (0): Linear(in_features=1568, out_features=100, bias=True)\n",
       "    (1): LeakyReLU(negative_slope=0.01)\n",
       "    (2): Linear(in_features=100, out_features=27, bias=True)\n",
       "  )\n",
       ")"
      ]
     },
     "execution_count": 97,
     "metadata": {},
     "output_type": "execute_result"
    }
   ],
   "source": [
    "cnn = model.CNN()\n",
    "cnn.load_state_dict(torch.load('ascii.pth'))\n",
    "cnn.eval()"
   ]
  },
  {
   "cell_type": "code",
   "execution_count": 98,
   "metadata": {},
   "outputs": [
    {
     "name": "stdout",
     "output_type": "stream",
     "text": [
      "Read image shape: (175, 120, 3)\n",
      "Image shape after resize: (28, 28, 3)\n",
      "Tensor shape: torch.Size([28, 28, 3])\n",
      "Changed tensor shape: torch.Size([3, 28, 28])\n"
     ]
    }
   ],
   "source": [
    "filename = f\"cjhnk51rtqdvl07027euklbel%2F4f41b11d-d4b2-438c-9d4f-4950d65f9513%2Fa.jpg\"\n",
    "\n",
    "image = cv.imread(f\"data/{filename}\", cv.IMREAD_COLOR)\n",
    "print(f\"Read image shape: {image.shape}\")\n",
    "# resize image to 28x28x3\n",
    "image = cv.resize(image, (28, 28))\n",
    "print(f\"Image shape after resize: {image.shape}\")\n",
    "# normalize to 0-1\n",
    "image = image.astype(np.float32)/255.0\n",
    "image = torch.from_numpy(image)\n",
    "\n",
    "print(f\"Tensor shape: {image.shape}\")\n",
    "image = torch.permute(image, [2, 0, 1])\n",
    "print(f\"Changed tensor shape: {image.shape}\")"
   ]
  },
  {
   "cell_type": "code",
   "execution_count": 99,
   "metadata": {},
   "outputs": [
    {
     "name": "stdout",
     "output_type": "stream",
     "text": [
      "tensor([[  3.7411,  -2.0753,  -0.0731,  -2.8476,   1.3252,  -3.6869,  -2.9177,\n",
      "          -3.6418, -15.5838, -10.2356,  -1.5208,  -3.4333,  -1.9415,  -3.3660,\n",
      "          -4.9619,  -4.3932,  -4.3432,  -6.7588, -12.6418, -14.6023,  -0.8827,\n",
      "          -4.5223, -11.8494,  -5.9569,  -6.7523,  -2.1872,  -5.3295]],\n",
      "       grad_fn=<AddmmBackward0>)\n",
      "tensor([3.7411], grad_fn=<MaxBackward0>) tensor([0])\n"
     ]
    }
   ],
   "source": [
    "predicted_y = cnn(image)\n",
    "print(predicted_y)\n",
    "value, index= torch.max(predicted_y, 1)\n",
    "print(value, index)"
   ]
  },
  {
   "cell_type": "code",
   "execution_count": 100,
   "metadata": {},
   "outputs": [
    {
     "name": "stdout",
     "output_type": "stream",
     "text": [
      "Recognized character: 'a'\n"
     ]
    }
   ],
   "source": [
    "if index.item() == 26:\n",
    "    print(f\"Recognized character: '{chr(32)}'\")\n",
    "else:\n",
    "    print(f\"Recognized character: '{chr(97 + index.item())}'\")\n"
   ]
  }
 ],
 "metadata": {
  "kernelspec": {
   "display_name": "Python 3.10.8 ('venv': venv)",
   "language": "python",
   "name": "python3"
  },
  "language_info": {
   "codemirror_mode": {
    "name": "ipython",
    "version": 3
   },
   "file_extension": ".py",
   "mimetype": "text/x-python",
   "name": "python",
   "nbconvert_exporter": "python",
   "pygments_lexer": "ipython3",
   "version": "3.10.8"
  },
  "orig_nbformat": 4,
  "vscode": {
   "interpreter": {
    "hash": "973531338cbf9c7c90f4817a38fa7871bb7b404078b58add9e433108e1385b97"
   }
  }
 },
 "nbformat": 4,
 "nbformat_minor": 2
}
