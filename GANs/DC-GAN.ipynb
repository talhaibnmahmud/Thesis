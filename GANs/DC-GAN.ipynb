{
 "cells": [
  {
   "cell_type": "markdown",
   "metadata": {},
   "source": [
    "## model.py"
   ]
  },
  {
   "cell_type": "code",
   "execution_count": 1,
   "metadata": {},
   "outputs": [],
   "source": [
    "import torch\n",
    "import torch.nn as nn"
   ]
  },
  {
   "cell_type": "code",
   "execution_count": 2,
   "metadata": {},
   "outputs": [],
   "source": [
    "class Discriminator(nn.Module):\n",
    "  def __init__(self, img_channels, features_d):\n",
    "    super().__init__()\n",
    "    self.discriminator = nn.Sequential(\n",
    "        # Input: N * img_channels * 64 * 64\n",
    "        nn.Conv2d(img_channels, features_d, kernel_size=4, stride=2, padding=1),\n",
    "        nn.LeakyReLU(0.2),\n",
    "\n",
    "        self._block(features_d, features_d * 2, 4, 2, 1),\n",
    "        self._block(features_d * 2, features_d * 4, 4, 2, 1),\n",
    "        self._block(features_d * 4, features_d * 8, 4, 2, 1),\n",
    "        # After the _block() calls the output is 4 * 4\n",
    "\n",
    "        # The Conv2d() makes the output 1 * 1\n",
    "        nn.Conv2d(features_d * 8, 1, kernel_size=4, stride=2, padding=0),\n",
    "        nn.Sigmoid()\n",
    "    )\n",
    "  \n",
    "  def _block(self, in_channels, out_channels, kernel_size, stride, padding):\n",
    "    return nn.Sequential(\n",
    "        nn.Conv2d(in_channels, out_channels, kernel_size, stride, padding, bias = False),\n",
    "        # nn.BatchNorm2d(out_channels)\n",
    "        nn.LeakyReLU(0.2)\n",
    "    )\n",
    "  \n",
    "  def forward(self, x):\n",
    "    return self.discriminator(x)"
   ]
  },
  {
   "cell_type": "code",
   "execution_count": 3,
   "metadata": {},
   "outputs": [],
   "source": [
    "class Generator(nn.Module):\n",
    "  def __init__(self, noise_channels, img_channels, features_g):\n",
    "    super().__init__()\n",
    "\n",
    "    self.generator = nn.Sequential(\n",
    "        # Input: N * noise_channels * 1 * 1\n",
    "        self._block(noise_channels, features_g * 16, 4, 1, 0),                  # Img: 4x4\n",
    "        self._block(features_g * 16, features_g * 8, 4, 2, 1),                  # Img: 8x8\n",
    "        self._block(features_g * 8, features_g * 4, 4, 2, 1),                   # Img: 16x16\n",
    "        self._block(features_g * 4, features_g * 2, 4, 2, 1),                   # Img: 32x32\n",
    "\n",
    "        nn.ConvTranspose2d(\n",
    "                features_g * 2, img_channels, kernel_size=4, stride=2, padding=1\n",
    "        ),\n",
    "        # Output: N x img_channels x 64 x 64\n",
    "        nn.Tanh(),\n",
    "    )\n",
    "  \n",
    "  def _block(self, in_channels, out_channels, kernel_size, stride, padding):\n",
    "    return nn.Sequential(\n",
    "        nn.ConvTranspose2d(\n",
    "            in_channels, \n",
    "            out_channels, \n",
    "            kernel_size, \n",
    "            stride, \n",
    "            padding, \n",
    "            bias=False\n",
    "        ),\n",
    "        # nn.BatchNorm2d(out_channels)\n",
    "        nn.ReLU()\n",
    "    )\n",
    "  \n",
    "  def forward(self, x):\n",
    "    return self.generator(x)"
   ]
  },
  {
   "cell_type": "code",
   "execution_count": 4,
   "metadata": {},
   "outputs": [],
   "source": [
    "def initialize_weights(model):\n",
    "  for m in model.modules():\n",
    "    if isinstance(m, (nn.Conv2d, nn.ConvTranspose2d, nn.BatchNorm2d)):\n",
    "      nn.init.normal_(m.weight.data, 0.0, 0.02)"
   ]
  },
  {
   "cell_type": "code",
   "execution_count": 5,
   "metadata": {},
   "outputs": [],
   "source": [
    "def test():\n",
    "  N, in_channels, H, W = 8, 3, 64, 64\n",
    "  noise_dimension = 100\n",
    "  x = torch.randn((N, in_channels, H, W))\n",
    "\n",
    "  discriminator = Discriminator(in_channels, 8)\n",
    "  assert discriminator(x).shape == (N, 1, 1, 1), \"Discriminator test failed\"\n",
    "\n",
    "  gen = Generator(noise_dimension, in_channels, 8)\n",
    "  z = torch.randn((N, noise_dimension, 1, 1))\n",
    "  assert gen(z).shape == (N, in_channels, H, W), \"Generator test failed\""
   ]
  },
  {
   "cell_type": "code",
   "execution_count": 6,
   "metadata": {},
   "outputs": [],
   "source": [
    "test()"
   ]
  },
  {
   "cell_type": "markdown",
   "metadata": {},
   "source": [
    "## train.py"
   ]
  },
  {
   "cell_type": "code",
   "execution_count": 7,
   "metadata": {},
   "outputs": [],
   "source": [
    "import torch.optim as optim\n",
    "import torchvision\n",
    "import torchvision.datasets as datasets\n",
    "import torchvision.transforms as transforms\n",
    "from torch.utils.data import DataLoader\n",
    "from torch.utils.tensorboard import SummaryWriter"
   ]
  },
  {
   "cell_type": "code",
   "execution_count": 8,
   "metadata": {},
   "outputs": [],
   "source": [
    "# Hyperparameters etc.\n",
    "device = torch.device(\"cuda\" if torch.cuda.is_available() else \"cpu\")\n",
    "LEARNING_RATE = 2e-4  # could also use two lrs, one for gen and one for disc\n",
    "BATCH_SIZE = 128\n",
    "IMAGE_SIZE = 64\n",
    "CHANNELS_IMG = 1\n",
    "NOISE_DIM = 100\n",
    "NUM_EPOCHS = 10\n",
    "FEATURES_DISC = 64\n",
    "FEATURES_GEN = 64"
   ]
  },
  {
   "cell_type": "code",
   "execution_count": 9,
   "metadata": {},
   "outputs": [],
   "source": [
    "transform = transforms.Compose(\n",
    "    [\n",
    "        transforms.Resize(IMAGE_SIZE),\n",
    "        transforms.ToTensor(),\n",
    "        transforms.Normalize(\n",
    "            [0.5 for _ in range(CHANNELS_IMG)], [0.5 for _ in range(CHANNELS_IMG)]\n",
    "        ),\n",
    "    ]\n",
    ")"
   ]
  },
  {
   "cell_type": "code",
   "execution_count": 10,
   "metadata": {},
   "outputs": [],
   "source": [
    "# If you train on MNIST, remember to set channels_img to 1\n",
    "dataset = datasets.MNIST(\n",
    "    root=\"dataset/\", \n",
    "    train=True, \n",
    "    transform=transform, \n",
    "    download=False\n",
    ")"
   ]
  },
  {
   "cell_type": "code",
   "execution_count": 11,
   "metadata": {},
   "outputs": [],
   "source": [
    "dataloader = DataLoader(dataset, batch_size=BATCH_SIZE, shuffle=True)\n",
    "generator = Generator(NOISE_DIM, CHANNELS_IMG, FEATURES_GEN).to(device)\n",
    "discriminator = Discriminator(CHANNELS_IMG, FEATURES_DISC).to(device)"
   ]
  },
  {
   "cell_type": "code",
   "execution_count": 12,
   "metadata": {},
   "outputs": [],
   "source": [
    "initialize_weights(generator)\n",
    "initialize_weights(discriminator)"
   ]
  },
  {
   "cell_type": "code",
   "execution_count": 13,
   "metadata": {},
   "outputs": [],
   "source": [
    "opt_gen = optim.Adam(generator.parameters(), lr=LEARNING_RATE, betas=(0.5, 0.999))\n",
    "opt_disc = optim.Adam(discriminator.parameters(), lr=LEARNING_RATE, betas=(0.5, 0.999))\n",
    "criterion = nn.BCELoss()"
   ]
  },
  {
   "cell_type": "code",
   "execution_count": 14,
   "metadata": {},
   "outputs": [],
   "source": [
    "fixed_noise = torch.randn(32, NOISE_DIM, 1, 1).to(device)\n",
    "writer_real = SummaryWriter(f\"logs/real\")\n",
    "writer_fake = SummaryWriter(f\"logs/fake\")\n",
    "step = 0"
   ]
  },
  {
   "cell_type": "code",
   "execution_count": 15,
   "metadata": {},
   "outputs": [
    {
     "data": {
      "text/plain": [
       "Generator(\n",
       "  (generator): Sequential(\n",
       "    (0): Sequential(\n",
       "      (0): ConvTranspose2d(100, 1024, kernel_size=(4, 4), stride=(1, 1), bias=False)\n",
       "      (1): ReLU()\n",
       "    )\n",
       "    (1): Sequential(\n",
       "      (0): ConvTranspose2d(1024, 512, kernel_size=(4, 4), stride=(2, 2), padding=(1, 1), bias=False)\n",
       "      (1): ReLU()\n",
       "    )\n",
       "    (2): Sequential(\n",
       "      (0): ConvTranspose2d(512, 256, kernel_size=(4, 4), stride=(2, 2), padding=(1, 1), bias=False)\n",
       "      (1): ReLU()\n",
       "    )\n",
       "    (3): Sequential(\n",
       "      (0): ConvTranspose2d(256, 128, kernel_size=(4, 4), stride=(2, 2), padding=(1, 1), bias=False)\n",
       "      (1): ReLU()\n",
       "    )\n",
       "    (4): ConvTranspose2d(128, 1, kernel_size=(4, 4), stride=(2, 2), padding=(1, 1))\n",
       "    (5): Tanh()\n",
       "  )\n",
       ")"
      ]
     },
     "execution_count": 15,
     "metadata": {},
     "output_type": "execute_result"
    }
   ],
   "source": [
    "generator.train()"
   ]
  },
  {
   "cell_type": "code",
   "execution_count": 16,
   "metadata": {},
   "outputs": [
    {
     "data": {
      "text/plain": [
       "Discriminator(\n",
       "  (discriminator): Sequential(\n",
       "    (0): Conv2d(1, 64, kernel_size=(4, 4), stride=(2, 2), padding=(1, 1))\n",
       "    (1): LeakyReLU(negative_slope=0.2)\n",
       "    (2): Sequential(\n",
       "      (0): Conv2d(64, 128, kernel_size=(4, 4), stride=(2, 2), padding=(1, 1), bias=False)\n",
       "      (1): LeakyReLU(negative_slope=0.2)\n",
       "    )\n",
       "    (3): Sequential(\n",
       "      (0): Conv2d(128, 256, kernel_size=(4, 4), stride=(2, 2), padding=(1, 1), bias=False)\n",
       "      (1): LeakyReLU(negative_slope=0.2)\n",
       "    )\n",
       "    (4): Sequential(\n",
       "      (0): Conv2d(256, 512, kernel_size=(4, 4), stride=(2, 2), padding=(1, 1), bias=False)\n",
       "      (1): LeakyReLU(negative_slope=0.2)\n",
       "    )\n",
       "    (5): Conv2d(512, 1, kernel_size=(4, 4), stride=(2, 2))\n",
       "    (6): Sigmoid()\n",
       "  )\n",
       ")"
      ]
     },
     "execution_count": 16,
     "metadata": {},
     "output_type": "execute_result"
    }
   ],
   "source": [
    "discriminator.train()"
   ]
  },
  {
   "cell_type": "code",
   "execution_count": 17,
   "metadata": {},
   "outputs": [
    {
     "name": "stdout",
     "output_type": "stream",
     "text": [
      "Epoch [0/10] Batch 0/469                   Loss D: 0.6951, loss G: 0.7025\n",
      "Epoch [0/10] Batch 100/469                   Loss D: 0.0003, loss G: 7.9549\n",
      "Epoch [0/10] Batch 200/469                   Loss D: 0.0001, loss G: 9.4695\n",
      "Epoch [0/10] Batch 300/469                   Loss D: 0.0001, loss G: 9.5981\n",
      "Epoch [0/10] Batch 400/469                   Loss D: 0.0000, loss G: 10.2108\n",
      "Epoch [1/10] Batch 0/469                   Loss D: 0.0000, loss G: 10.6337\n",
      "Epoch [1/10] Batch 100/469                   Loss D: 0.0000, loss G: 11.2912\n",
      "Epoch [1/10] Batch 200/469                   Loss D: 0.0000, loss G: 11.6562\n",
      "Epoch [1/10] Batch 300/469                   Loss D: 0.0000, loss G: 11.6953\n",
      "Epoch [1/10] Batch 400/469                   Loss D: 0.0000, loss G: 10.6343\n",
      "Epoch [2/10] Batch 0/469                   Loss D: 0.0000, loss G: 12.3728\n",
      "Epoch [2/10] Batch 100/469                   Loss D: 0.0000, loss G: 12.6308\n",
      "Epoch [2/10] Batch 200/469                   Loss D: 0.0000, loss G: 12.6495\n",
      "Epoch [2/10] Batch 300/469                   Loss D: 0.0000, loss G: 12.8630\n",
      "Epoch [2/10] Batch 400/469                   Loss D: 0.0000, loss G: 13.0837\n",
      "Epoch [3/10] Batch 0/469                   Loss D: 0.0000, loss G: 13.2458\n",
      "Epoch [3/10] Batch 100/469                   Loss D: 0.0000, loss G: 10.6159\n",
      "Epoch [3/10] Batch 200/469                   Loss D: 0.0000, loss G: 13.4647\n",
      "Epoch [3/10] Batch 300/469                   Loss D: 0.0000, loss G: 12.1179\n",
      "Epoch [3/10] Batch 400/469                   Loss D: 0.0000, loss G: 13.6096\n",
      "Epoch [4/10] Batch 0/469                   Loss D: 0.0000, loss G: 13.6347\n",
      "Epoch [4/10] Batch 100/469                   Loss D: 0.0000, loss G: 13.8066\n",
      "Epoch [4/10] Batch 200/469                   Loss D: 0.0000, loss G: 14.0024\n",
      "Epoch [4/10] Batch 300/469                   Loss D: 0.0000, loss G: 14.1660\n",
      "Epoch [4/10] Batch 400/469                   Loss D: 0.0000, loss G: 14.0432\n",
      "Epoch [5/10] Batch 0/469                   Loss D: 0.0000, loss G: 14.3376\n",
      "Epoch [5/10] Batch 100/469                   Loss D: 0.0000, loss G: 13.6532\n",
      "Epoch [5/10] Batch 200/469                   Loss D: 0.0000, loss G: 14.5560\n",
      "Epoch [5/10] Batch 300/469                   Loss D: 0.0000, loss G: 14.5102\n",
      "Epoch [5/10] Batch 400/469                   Loss D: 0.0000, loss G: 14.7227\n",
      "Epoch [6/10] Batch 0/469                   Loss D: 0.0000, loss G: 14.8154\n",
      "Epoch [6/10] Batch 100/469                   Loss D: 0.0000, loss G: 13.1587\n",
      "Epoch [6/10] Batch 200/469                   Loss D: 0.0000, loss G: 14.9857\n",
      "Epoch [6/10] Batch 300/469                   Loss D: 0.0000, loss G: 15.0067\n",
      "Epoch [6/10] Batch 400/469                   Loss D: 0.0000, loss G: 15.0495\n",
      "Epoch [7/10] Batch 0/469                   Loss D: 0.0000, loss G: 15.1374\n",
      "Epoch [7/10] Batch 100/469                   Loss D: 0.0000, loss G: 13.2852\n",
      "Epoch [7/10] Batch 200/469                   Loss D: 0.0000, loss G: 15.1987\n",
      "Epoch [7/10] Batch 300/469                   Loss D: 0.0000, loss G: 15.3856\n",
      "Epoch [7/10] Batch 400/469                   Loss D: 0.0000, loss G: 15.4621\n",
      "Epoch [8/10] Batch 0/469                   Loss D: 0.0000, loss G: 15.2108\n",
      "Epoch [8/10] Batch 100/469                   Loss D: 0.0000, loss G: 15.4737\n",
      "Epoch [8/10] Batch 200/469                   Loss D: 0.0000, loss G: 15.6083\n",
      "Epoch [8/10] Batch 300/469                   Loss D: 0.0000, loss G: 15.5978\n",
      "Epoch [8/10] Batch 400/469                   Loss D: 0.0000, loss G: 15.0260\n",
      "Epoch [9/10] Batch 0/469                   Loss D: 0.0000, loss G: 15.4765\n",
      "Epoch [9/10] Batch 100/469                   Loss D: 0.0000, loss G: 14.5769\n",
      "Epoch [9/10] Batch 200/469                   Loss D: 0.0000, loss G: 15.8438\n",
      "Epoch [9/10] Batch 300/469                   Loss D: 0.0000, loss G: 16.0008\n",
      "Epoch [9/10] Batch 400/469                   Loss D: 0.0000, loss G: 16.0193\n"
     ]
    }
   ],
   "source": [
    "for epoch in range(NUM_EPOCHS):\n",
    "    # Target labels not needed! <3 unsupervised\n",
    "    for batch_idx, (real, _) in enumerate(dataloader):\n",
    "        real = real.to(device)\n",
    "        noise = torch.randn(BATCH_SIZE, NOISE_DIM, 1, 1).to(device)\n",
    "        fake = generator(noise)\n",
    "\n",
    "        ### Train Discriminator: max log(D(x)) + log(1 - D(G(z)))\n",
    "        disc_real = discriminator(real).reshape(-1)\n",
    "        loss_disc_real = criterion(disc_real, torch.ones_like(disc_real))\n",
    "        disc_fake = discriminator(fake.detach()).reshape(-1)\n",
    "        loss_disc_fake = criterion(disc_fake, torch.zeros_like(disc_fake))\n",
    "        loss_disc = (loss_disc_real + loss_disc_fake) / 2\n",
    "        discriminator.zero_grad()\n",
    "        loss_disc.backward()\n",
    "        opt_disc.step()\n",
    "\n",
    "        ### Train Generator: min log(1 - D(G(z))) <-> max log(D(G(z))\n",
    "        output = discriminator(fake).reshape(-1)\n",
    "        loss_gen = criterion(output, torch.ones_like(output))\n",
    "        generator.zero_grad()\n",
    "        loss_gen.backward()\n",
    "        opt_gen.step()\n",
    "\n",
    "        # Print losses occasionally and print to tensorboard\n",
    "        if batch_idx % 100 == 0:\n",
    "            print(\n",
    "                f\"Epoch [{epoch}/{NUM_EPOCHS}] Batch {batch_idx}/{len(dataloader)} \\\n",
    "                  Loss D: {loss_disc:.4f}, loss G: {loss_gen:.4f}\"\n",
    "            )\n",
    "\n",
    "            with torch.no_grad():\n",
    "                fake = generator(fixed_noise)\n",
    "                # take out (up to) 32 examples\n",
    "                img_grid_real = torchvision.utils.make_grid(\n",
    "                    real[:32], normalize=True\n",
    "                )\n",
    "                img_grid_fake = torchvision.utils.make_grid(\n",
    "                    fake[:32], normalize=True\n",
    "                )\n",
    "\n",
    "                writer_real.add_image(\"Real\", img_grid_real, global_step=step)\n",
    "                writer_fake.add_image(\"Fake\", img_grid_fake, global_step=step)\n",
    "\n",
    "            step += 1"
   ]
  }
 ],
 "metadata": {
  "kernelspec": {
   "display_name": "Python 3.10.8 ('venv': venv)",
   "language": "python",
   "name": "python3"
  },
  "language_info": {
   "codemirror_mode": {
    "name": "ipython",
    "version": 3
   },
   "file_extension": ".py",
   "mimetype": "text/x-python",
   "name": "python",
   "nbconvert_exporter": "python",
   "pygments_lexer": "ipython3",
   "version": "3.10.8"
  },
  "orig_nbformat": 4,
  "vscode": {
   "interpreter": {
    "hash": "973531338cbf9c7c90f4817a38fa7871bb7b404078b58add9e433108e1385b97"
   }
  }
 },
 "nbformat": 4,
 "nbformat_minor": 2
}
