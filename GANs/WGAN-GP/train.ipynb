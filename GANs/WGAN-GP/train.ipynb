{
 "cells": [
  {
   "attachments": {},
   "cell_type": "markdown",
   "metadata": {},
   "source": [
    "# Import Libraries"
   ]
  },
  {
   "cell_type": "code",
   "execution_count": null,
   "metadata": {},
   "outputs": [],
   "source": [
    "import matplotlib.pyplot as plt\n",
    "import numpy as np\n",
    "\n",
    "import torch\n",
    "import torch.nn as nn\n",
    "import torch.optim as optim\n",
    "import torchvision.datasets as datasets\n",
    "import torchvision.transforms as transforms\n",
    "import torchvision.utils as vutils\n",
    "\n",
    "from torch.autograd import Variable\n",
    "from torch.utils.data import DataLoader\n",
    "from torch.utils.tensorboard.writer import SummaryWriter\n",
    "from tqdm import tqdm"
   ]
  },
  {
   "cell_type": "code",
   "execution_count": null,
   "metadata": {},
   "outputs": [],
   "source": [
    "from model import Critic, Generator, init_weights\n",
    "from utils import gradient_penalty, save_checkpoint, load_checkpoint"
   ]
  },
  {
   "cell_type": "code",
   "execution_count": null,
   "metadata": {},
   "outputs": [],
   "source": [
    "# Setting manual seed for reproducibility\n",
    "manual_seed = 999\n",
    "print(f\"Random Seed: {manual_seed}\")\n",
    "torch.manual_seed(manual_seed)"
   ]
  },
  {
   "cell_type": "code",
   "execution_count": null,
   "metadata": {},
   "outputs": [],
   "source": [
    "device = torch.device(\"cuda\" if torch.cuda.is_available() else \"cpu\")\n",
    "\n",
    "print(f\"Pytorch version: {torch.__version__}\")\n",
    "print(f\"Device: {device}\")"
   ]
  },
  {
   "cell_type": "code",
   "execution_count": null,
   "metadata": {},
   "outputs": [],
   "source": [
    "# Hyperparameters\n",
    "LEARNING_RATE = 1e-4\n",
    "BATCH_SIZE = 64\n",
    "IMAGE_SIZE = 64\n",
    "CHANNELS_IMG = 3\n",
    "IMAGE_SHAPE = (CHANNELS_IMG, IMAGE_SIZE, IMAGE_SIZE)\n",
    "Z_DIM = 100\n",
    "NUM_EPOCHS = 1\n",
    "FEATURES_CRITIC = 16\n",
    "FEATURES_GEN = 16\n",
    "CRITIC_ITERATIONS = 5\n",
    "LAMBDA_GP = 10\n",
    "\n",
    "NGPU = 2"
   ]
  },
  {
   "cell_type": "code",
   "execution_count": null,
   "metadata": {},
   "outputs": [],
   "source": [
    "transform = transforms.Compose(\n",
    "    [\n",
    "        transforms.Resize([IMAGE_SIZE, IMAGE_SIZE]),\n",
    "        transforms.ToTensor(),\n",
    "        transforms.Normalize(\n",
    "            [0.5 for _ in range(CHANNELS_IMG)], [0.5 for _ in range(CHANNELS_IMG)]\n",
    "        ),\n",
    "    ]\n",
    ")"
   ]
  },
  {
   "cell_type": "code",
   "execution_count": null,
   "metadata": {},
   "outputs": [],
   "source": [
    "# Load dataset from data/chest_xray/train\n",
    "dataset = datasets.ImageFolder(root=\"../data/chest_xray/train\", transform=transform)\n",
    "\n",
    "print(f\"Dataset length: {len(dataset)}\")\n",
    "print(f\"Dataset classes: {dataset.classes}\")\n",
    "print(f\"Dataset class to idx mapping: {dataset.class_to_idx}\")\n",
    "\n",
    "print(f\"Dataset sample: {dataset.samples[0]}\")\n",
    "\n",
    "plt.imshow(dataset[0][0].permute(1, 2, 0))\n",
    "plt.show()"
   ]
  },
  {
   "cell_type": "code",
   "execution_count": null,
   "metadata": {},
   "outputs": [],
   "source": [
    "loader = DataLoader(\n",
    "    dataset, batch_size=BATCH_SIZE, shuffle=True, num_workers=2, pin_memory=True\n",
    ")\n",
    "\n",
    "# Print sample batch\n",
    "# for batch_idx, (data, targets) in enumerate(loader):\n",
    "#     print(f\"Batch idx: {batch_idx}\")\n",
    "#     print(f\"Data shape: {data.shape}\")\n",
    "#     print(f\"Targets shape: {targets.shape}\")\n",
    "#     print(f\"Targets: {targets}\")\n",
    "#     plt.figure(figsize=(8, 8))\n",
    "#     plt.axis(\"off\")\n",
    "#     plt.imshow(\n",
    "#         np.transpose(\n",
    "#             vutils.make_grid(data.to(device)[:64], padding=2, normalize=True).cpu(),\n",
    "#             (1, 2, 0),\n",
    "#         )\n",
    "#     )\n",
    "#     plt.show()\n",
    "#     break\n",
    "\n",
    "\n",
    "# Print sample batch\n",
    "real_batch = next(iter(loader))\n",
    "plt.figure(figsize=(8, 8))\n",
    "plt.axis(\"off\")\n",
    "plt.title(\"Training Images\")\n",
    "plt.imshow(\n",
    "    np.transpose(\n",
    "        vutils.make_grid(real_batch[0].to(device)[:64], padding=2, normalize=True).cpu(),\n",
    "        (1, 2, 0),\n",
    "    )\n",
    ")\n",
    "plt.show()"
   ]
  },
  {
   "cell_type": "code",
   "execution_count": null,
   "metadata": {},
   "outputs": [],
   "source": [
    "generator: Generator = Generator(Z_DIM, IMAGE_SHAPE, FEATURES_GEN, NGPU).to(device)\n",
    "\n",
    "if device == \"cuda\" and NGPU > 1:\n",
    "    generator = nn.DataParallel(generator, list(range(NGPU)))\n",
    "\n",
    "init_weights(generator)\n",
    "print(generator)"
   ]
  },
  {
   "cell_type": "code",
   "execution_count": null,
   "metadata": {},
   "outputs": [],
   "source": [
    "critic: Critic = Critic(IMAGE_SHAPE, FEATURES_CRITIC, NGPU).to(device)\n",
    "\n",
    "if device == \"cuda\" and NGPU > 1:\n",
    "    critic = nn.DataParallel(critic, list(range(NGPU)))\n",
    "\n",
    "init_weights(critic)\n",
    "print(critic)"
   ]
  },
  {
   "cell_type": "code",
   "execution_count": null,
   "metadata": {},
   "outputs": [],
   "source": [
    "# Optimizer for generator\n",
    "opt_gen = optim.Adam(generator.parameters(), lr=LEARNING_RATE, betas=(0.0, 0.9))\n",
    "print(opt_gen)"
   ]
  },
  {
   "cell_type": "code",
   "execution_count": null,
   "metadata": {},
   "outputs": [],
   "source": [
    "opt_critic = optim.Adam(critic.parameters(), lr=LEARNING_RATE, betas=(0.0, 0.9))\n",
    "print(opt_critic)"
   ]
  },
  {
   "cell_type": "code",
   "execution_count": null,
   "metadata": {},
   "outputs": [],
   "source": [
    "# Tensorboard\n",
    "writer_real = SummaryWriter(f\"logs/real\")\n",
    "writer_fake = SummaryWriter(f\"logs/fake\")"
   ]
  },
  {
   "cell_type": "code",
   "execution_count": null,
   "metadata": {},
   "outputs": [],
   "source": [
    "fixed_noise = torch.randn(32, Z_DIM, 1, 1).to(device)\n",
    "plt.imshow(\n",
    "    np.transpose(\n",
    "        vutils.make_grid(\n",
    "            generator(fixed_noise).detach().cpu()[:1], padding=2, normalize=True\n",
    "        ),\n",
    "        (1, 2, 0),\n",
    "    )\n",
    ")\n",
    "plt.title(\"Fake images\")\n",
    "plt.show()"
   ]
  },
  {
   "cell_type": "code",
   "execution_count": null,
   "metadata": {},
   "outputs": [],
   "source": [
    "step = 0\n",
    "generator_losses = []\n",
    "critic_losses = []"
   ]
  },
  {
   "cell_type": "code",
   "execution_count": null,
   "metadata": {},
   "outputs": [],
   "source": [
    "generator.train()"
   ]
  },
  {
   "cell_type": "code",
   "execution_count": null,
   "metadata": {},
   "outputs": [],
   "source": [
    "critic.train()"
   ]
  },
  {
   "cell_type": "code",
   "execution_count": null,
   "metadata": {},
   "outputs": [],
   "source": [
    "%matplotlib inline\n",
    "for epoch in range(NUM_EPOCHS):\n",
    "    for batch_idx, (real, _) in enumerate(loader):\n",
    "        print(f\"Epoch: {epoch}, Batch: {batch_idx}\")\n",
    "        real = real.to(device)\n",
    "        cur_batch_size = real.shape[0]\n",
    "\n",
    "        # Train Critic: max E[critic(real)] - E[critic(fake)]\n",
    "        # => min -E[critic(real)] + E[critic(fake)]\n",
    "        critic_loss = 0\n",
    "        for _ in range(CRITIC_ITERATIONS):\n",
    "            noise = torch.randn(cur_batch_size, Z_DIM, 1, 1).to(device)\n",
    "            fake = generator(noise)\n",
    "\n",
    "            critic_real = critic(real).reshape(-1)\n",
    "            critic_fake = critic(fake).reshape(-1)\n",
    "\n",
    "            gp = gradient_penalty(critic, real, fake, device=device)\n",
    "            loss_critic = (\n",
    "                -(torch.mean(critic_real) - torch.mean(critic_fake))\n",
    "                + LAMBDA_GP * gp\n",
    "            )\n",
    "            critic.zero_grad()\n",
    "            loss_critic.backward(retain_graph=True)\n",
    "            opt_critic.step()\n",
    "\n",
    "            critic_loss += loss_critic.item()\n",
    "        \n",
    "        critic_losses.append(critic_loss / CRITIC_ITERATIONS)\n",
    "\n",
    "        # Train Generator: min -E[critic(gen_fake)] <-> max E[critic(gen_fake)]\n",
    "        gen_fake = critic(fake).reshape(-1)\n",
    "        loss_gen = -torch.mean(gen_fake)\n",
    "        generator.zero_grad()\n",
    "        loss_gen.backward()\n",
    "        opt_gen.step()\n",
    "\n",
    "        generator_losses.append(loss_gen.item())\n",
    "\n",
    "        # Print losses occasionally and print to tensorboard\n",
    "        if batch_idx % 100 == 0 and batch_idx > 0:\n",
    "            print(\n",
    "                f\"Epoch [{epoch}/{NUM_EPOCHS}] Batch {batch_idx}/{len(loader)} \\\n",
    "                      Loss D: {loss_critic:.4f}, loss G: {loss_gen:.4f}\"\n",
    "            )\n",
    "\n",
    "            with torch.no_grad():\n",
    "                fake = generator(fixed_noise)\n",
    "                # take out (up to) 32 examples\n",
    "                img_grid_real = vutils.make_grid(\n",
    "                    real[:32], normalize=True, padding=2\n",
    "                )\n",
    "                img_grid_fake = vutils.make_grid(\n",
    "                    fake[:32], normalize=True, padding=2\n",
    "                )\n",
    "\n",
    "                writer_real.add_image(\n",
    "                    \"Real images\", img_grid_real, global_step=step\n",
    "                )\n",
    "                writer_fake.add_image(\"Fake images\", img_grid_fake, global_step=step)\n",
    "\n",
    "            step += 1\n",
    "    \n",
    "    # Print images after each epoch\n",
    "    with torch.no_grad():\n",
    "        sample_noise = torch.randn(64, Z_DIM, 1, 1).to(device)\n",
    "        sample = generator(sample_noise)\n",
    "        plt.figure(figsize=(8, 8))\n",
    "        plt.axis(\"off\")\n",
    "        plt.title(f\"Generated images after epoch {epoch}\")\n",
    "        plt.imshow(\n",
    "            np.transpose(\n",
    "                vutils.make_grid(sample[:64], padding=2, normalize=True).cpu(),\n",
    "                (1, 2, 0),\n",
    "            )\n",
    "        )\n",
    "        plt.show()\n",
    "    \n",
    "    # Save model after each epoch\n",
    "    if epoch % 10 == 0:\n",
    "        torch.save(generator.state_dict(), f\"model_states/generator_epoch_{epoch}.pth\")\n",
    "        torch.save(critic.state_dict(), f\"model_states/critic_epoch_{epoch}.pth\")\n",
    "\n",
    "# Save model after training\n",
    "torch.save(generator.state_dict(), \"generator.pth\")\n",
    "torch.save(critic.state_dict(), \"critic.pth\")"
   ]
  },
  {
   "cell_type": "code",
   "execution_count": null,
   "metadata": {},
   "outputs": [],
   "source": [
    "# Plot losses\n",
    "plt.plot(generator_losses, label=\"Generator\", alpha=0.5, color=\"green\")\n",
    "plt.plot(critic_losses, label=\"Critic\", alpha=0.5, color=\"red\")\n",
    "plt.title(\"Losses\")\n",
    "plt.xlabel(\"Iterations\")\n",
    "plt.ylabel(\"Loss\")\n",
    "plt.legend()\n",
    "plt.show()"
   ]
  }
 ],
 "metadata": {
  "kernelspec": {
   "display_name": "Python 3.10.8 ('venv': venv)",
   "language": "python",
   "name": "python3"
  },
  "language_info": {
   "codemirror_mode": {
    "name": "ipython",
    "version": 3
   },
   "file_extension": ".py",
   "mimetype": "text/x-python",
   "name": "python",
   "nbconvert_exporter": "python",
   "pygments_lexer": "ipython3",
   "version": "3.10.8"
  },
  "orig_nbformat": 4,
  "vscode": {
   "interpreter": {
    "hash": "973531338cbf9c7c90f4817a38fa7871bb7b404078b58add9e433108e1385b97"
   }
  }
 },
 "nbformat": 4,
 "nbformat_minor": 2
}
