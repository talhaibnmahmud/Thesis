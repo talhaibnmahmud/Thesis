{
 "cells": [
  {
   "cell_type": "code",
   "execution_count": 1,
   "metadata": {},
   "outputs": [],
   "source": [
    "import torch\n",
    "import torch.nn as nn\n",
    "import torch.optim as optim\n",
    "import torchvision\n",
    "import torchvision.datasets as datasets\n",
    "import torchvision.transforms as transforms\n",
    "from torch.utils.data import DataLoader\n",
    "from torch.utils.tensorboard.writer import SummaryWriter"
   ]
  },
  {
   "cell_type": "code",
   "execution_count": 2,
   "metadata": {},
   "outputs": [],
   "source": [
    "class Discriminator(nn.Module):\n",
    "    def __init__(self, img_dim: int) -> None:\n",
    "        super().__init__()\n",
    "        self.disc = nn.Sequential(\n",
    "            nn.Linear(img_dim, 128),\n",
    "            nn.LeakyReLU(0.01),\n",
    "            nn.Linear(128, 1),\n",
    "            nn.Sigmoid()\n",
    "        )\n",
    "    \n",
    "    def forward(self, x):\n",
    "        return self.disc(x)"
   ]
  },
  {
   "cell_type": "code",
   "execution_count": 3,
   "metadata": {},
   "outputs": [],
   "source": [
    "class Generaotr(nn.Module):\n",
    "    def __init__(self, z_dim: int, img_dim: int) -> None:\n",
    "        super().__init__()\n",
    "        self.gen = nn.Sequential(\n",
    "            nn.Linear(z_dim, 256),\n",
    "            nn.LeakyReLU(0.01),\n",
    "            nn.Linear(256, img_dim),\n",
    "            nn.Tanh()\n",
    "        )\n",
    "    \n",
    "    def forward(self, x):\n",
    "        return self.gen(x)"
   ]
  },
  {
   "cell_type": "code",
   "execution_count": 4,
   "metadata": {},
   "outputs": [
    {
     "name": "stdout",
     "output_type": "stream",
     "text": [
      "Using cuda for training...\n"
     ]
    }
   ],
   "source": [
    "# Device\n",
    "device = \"cuda\" if torch.cuda.is_available() else \"cpu\"\n",
    "print(f\"Using {device} for training...\")"
   ]
  },
  {
   "cell_type": "code",
   "execution_count": 5,
   "metadata": {},
   "outputs": [],
   "source": [
    "# Hyperparameters\n",
    "learning_rate = 3e-4\n",
    "z_dim = 64\n",
    "img_dim = 28 * 28 * 1\n",
    "batch_size = 32\n",
    "num_epochs = 50"
   ]
  },
  {
   "cell_type": "code",
   "execution_count": 6,
   "metadata": {},
   "outputs": [],
   "source": [
    "disc = Discriminator(img_dim).to(device)\n",
    "gen = Generaotr(z_dim, img_dim).to(device)\n",
    "fixed_noise = torch.randn(batch_size, z_dim).to(device)\n",
    "\n",
    "transform = transforms.Compose(\n",
    "    [transforms.ToTensor(), transforms.Normalize((0.5, ), (0.5,)),]\n",
    ")\n",
    "dataset = datasets.MNIST(root=\"dataset/\", transform=transform, download=True)\n",
    "loader = DataLoader(dataset, batch_size=batch_size, shuffle=True)\n",
    "\n",
    "opt_disc = optim.Adam(disc.parameters(), lr=learning_rate)\n",
    "opt_gen = optim.Adam(gen.parameters(), lr=learning_rate)\n",
    "criterion = nn.BCELoss()\n",
    "\n",
    "writer_fake = SummaryWriter(f\"runs/GAN_MNIST/fake\")\n",
    "writer_real = SummaryWriter(f\"runs/GAN_MNIST/real\")\n",
    "\n",
    "step = 0"
   ]
  },
  {
   "cell_type": "code",
   "execution_count": 7,
   "metadata": {},
   "outputs": [
    {
     "name": "stdout",
     "output_type": "stream",
     "text": [
      "Epoch [0/50] Batch 0/1875Loss D: 0.6955, Loss G:  0.6920\n",
      "Epoch [1/50] Batch 0/1875Loss D: 0.2662, Loss G:  2.0047\n",
      "Epoch [2/50] Batch 0/1875Loss D: 0.8754, Loss G:  0.6600\n",
      "Epoch [3/50] Batch 0/1875Loss D: 0.2807, Loss G:  1.7046\n",
      "Epoch [4/50] Batch 0/1875Loss D: 0.5321, Loss G:  1.0381\n",
      "Epoch [5/50] Batch 0/1875Loss D: 0.4658, Loss G:  1.1740\n",
      "Epoch [6/50] Batch 0/1875Loss D: 0.5156, Loss G:  1.2896\n",
      "Epoch [7/50] Batch 0/1875Loss D: 0.5774, Loss G:  1.3387\n",
      "Epoch [8/50] Batch 0/1875Loss D: 0.8253, Loss G:  0.6788\n",
      "Epoch [9/50] Batch 0/1875Loss D: 0.4167, Loss G:  1.5456\n",
      "Epoch [10/50] Batch 0/1875Loss D: 0.5207, Loss G:  1.3344\n",
      "Epoch [11/50] Batch 0/1875Loss D: 0.4127, Loss G:  1.3722\n",
      "Epoch [12/50] Batch 0/1875Loss D: 0.4535, Loss G:  1.4685\n",
      "Epoch [13/50] Batch 0/1875Loss D: 0.7281, Loss G:  0.9304\n",
      "Epoch [14/50] Batch 0/1875Loss D: 0.5438, Loss G:  1.5335\n",
      "Epoch [15/50] Batch 0/1875Loss D: 0.7617, Loss G:  1.2959\n",
      "Epoch [16/50] Batch 0/1875Loss D: 0.6750, Loss G:  1.4716\n",
      "Epoch [17/50] Batch 0/1875Loss D: 0.4356, Loss G:  1.4359\n",
      "Epoch [18/50] Batch 0/1875Loss D: 0.9402, Loss G:  0.9756\n",
      "Epoch [19/50] Batch 0/1875Loss D: 0.7241, Loss G:  1.1565\n",
      "Epoch [20/50] Batch 0/1875Loss D: 0.5788, Loss G:  1.2805\n",
      "Epoch [21/50] Batch 0/1875Loss D: 0.6657, Loss G:  1.4763\n",
      "Epoch [22/50] Batch 0/1875Loss D: 0.6817, Loss G:  1.7018\n",
      "Epoch [23/50] Batch 0/1875Loss D: 0.7047, Loss G:  0.9903\n",
      "Epoch [24/50] Batch 0/1875Loss D: 0.5669, Loss G:  1.2779\n",
      "Epoch [25/50] Batch 0/1875Loss D: 0.7271, Loss G:  1.2190\n",
      "Epoch [26/50] Batch 0/1875Loss D: 0.4209, Loss G:  1.8591\n",
      "Epoch [27/50] Batch 0/1875Loss D: 0.6658, Loss G:  1.2837\n",
      "Epoch [28/50] Batch 0/1875Loss D: 0.4964, Loss G:  1.3617\n",
      "Epoch [29/50] Batch 0/1875Loss D: 0.4564, Loss G:  1.5495\n",
      "Epoch [30/50] Batch 0/1875Loss D: 0.6572, Loss G:  1.0539\n",
      "Epoch [31/50] Batch 0/1875Loss D: 0.6671, Loss G:  1.3605\n",
      "Epoch [32/50] Batch 0/1875Loss D: 0.6075, Loss G:  1.6501\n",
      "Epoch [33/50] Batch 0/1875Loss D: 0.6919, Loss G:  0.9982\n",
      "Epoch [34/50] Batch 0/1875Loss D: 0.5464, Loss G:  1.2682\n",
      "Epoch [35/50] Batch 0/1875Loss D: 0.5901, Loss G:  1.3054\n",
      "Epoch [36/50] Batch 0/1875Loss D: 0.5024, Loss G:  1.2896\n",
      "Epoch [37/50] Batch 0/1875Loss D: 0.4884, Loss G:  1.4955\n",
      "Epoch [38/50] Batch 0/1875Loss D: 0.5435, Loss G:  1.2987\n",
      "Epoch [39/50] Batch 0/1875Loss D: 0.4840, Loss G:  1.4505\n",
      "Epoch [40/50] Batch 0/1875Loss D: 0.7907, Loss G:  1.2317\n",
      "Epoch [41/50] Batch 0/1875Loss D: 0.6248, Loss G:  0.7966\n",
      "Epoch [42/50] Batch 0/1875Loss D: 0.6000, Loss G:  1.4690\n",
      "Epoch [43/50] Batch 0/1875Loss D: 0.6461, Loss G:  0.8148\n",
      "Epoch [44/50] Batch 0/1875Loss D: 0.8080, Loss G:  1.0270\n",
      "Epoch [45/50] Batch 0/1875Loss D: 0.5373, Loss G:  1.1828\n",
      "Epoch [46/50] Batch 0/1875Loss D: 0.7800, Loss G:  0.9951\n",
      "Epoch [47/50] Batch 0/1875Loss D: 0.6830, Loss G:  0.9870\n",
      "Epoch [48/50] Batch 0/1875Loss D: 0.5151, Loss G:  1.2381\n",
      "Epoch [49/50] Batch 0/1875Loss D: 0.6949, Loss G:  0.9935\n"
     ]
    }
   ],
   "source": [
    "for epoch in range(num_epochs):\n",
    "    for batch_idx, (real, _) in enumerate(loader):\n",
    "        real = real.view(-1, 784).to(device)\n",
    "        batch_size = real.shape[0]\n",
    "\n",
    "        # Training the Discriminator: max log(D(real)) + log(1 - D(G(z)))\n",
    "        noise = torch.randn(batch_size, z_dim).to(device)\n",
    "        fake = gen(noise)\n",
    "\n",
    "        disc_real = disc(real).view(-1)\n",
    "        lossD_real = criterion(disc_real, torch.ones_like(disc_real))\n",
    "        disc_fake = disc(fake).view(-1)\n",
    "        lossD_fake = criterion(disc_fake, torch.zeros_like(disc_fake))\n",
    "        \n",
    "        lossD = (lossD_real + lossD_fake) / 2\n",
    "        disc.zero_grad()\n",
    "        lossD.backward(retain_graph=True)\n",
    "        opt_disc.step()\n",
    "\n",
    "        # Training the Generator: min log(1 - D(G(z))) <--> max log(D(G(z)))\n",
    "        output = disc(fake).view(-1)\n",
    "        lossG = criterion(output, torch.ones_like(output))\n",
    "\n",
    "        gen.zero_grad()\n",
    "        lossG.backward()\n",
    "        opt_gen.step()\n",
    "\n",
    "        if batch_idx == 0:\n",
    "            print(\n",
    "                f\"Epoch [{epoch}/{num_epochs}] Batch {batch_idx}/{len(loader)}\"\n",
    "                f\"Loss D: {lossD:.4f}, Loss G: {lossG: 0.4f}\"\n",
    "            )\n",
    "\n",
    "            with torch.no_grad():\n",
    "                fake = gen(fixed_noise).reshape(-1, 1, 28, 28)\n",
    "                data = real.reshape(-1, 1, 28, 28)\n",
    "\n",
    "                img_grid_fake = torchvision.utils.make_grid(fake, normalize=True)\n",
    "                img_grid_real = torchvision.utils.make_grid(data, normalize=True)\n",
    "\n",
    "                writer_fake.add_image(\"MNIST Fake Images\", img_grid_fake, global_step=step)\n",
    "                writer_real.add_image(\"MNIST Real Images\", img_grid_real, global_step=step)\n",
    "\n",
    "                step += 1"
   ]
  }
 ],
 "metadata": {
  "kernelspec": {
   "display_name": "Python 3.11.0 ('venv': venv)",
   "language": "python",
   "name": "python3"
  },
  "language_info": {
   "codemirror_mode": {
    "name": "ipython",
    "version": 3
   },
   "file_extension": ".py",
   "mimetype": "text/x-python",
   "name": "python",
   "nbconvert_exporter": "python",
   "pygments_lexer": "ipython3",
   "version": "3.10.8"
  },
  "orig_nbformat": 4,
  "vscode": {
   "interpreter": {
    "hash": "973531338cbf9c7c90f4817a38fa7871bb7b404078b58add9e433108e1385b97"
   }
  }
 },
 "nbformat": 4,
 "nbformat_minor": 2
}
